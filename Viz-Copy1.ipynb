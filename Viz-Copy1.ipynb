{
 "cells": [
  {
   "cell_type": "code",
   "execution_count": 1,
   "id": "d3f0c5ef",
   "metadata": {},
   "outputs": [],
   "source": [
    "import glob\n",
    "import matplotlib.pyplot as plt\n",
    "import numpy as np"
   ]
  },
  {
   "cell_type": "code",
   "execution_count": 2,
   "id": "abbb307e",
   "metadata": {},
   "outputs": [
    {
     "name": "stdout",
     "output_type": "stream",
     "text": [
      "['PIR/0_1_1.npy', 'PIR/0_1_2.npy', 'PIR/0_1_3.npy', 'PIR/0_1_4.npy', 'PIR/0_1_5.npy', 'PIR/0_1_6.npy', 'PIR/0_1_7.npy', 'PIR/0_1_8.npy', 'PIR/0_2_1.npy', 'PIR/0_2_2.npy', 'PIR/0_2_3.npy', 'PIR/0_2_4.npy', 'PIR/0_2_5.npy', 'PIR/0_2_6.npy', 'PIR/0_2_7.npy', 'PIR/0_2_8.npy', 'PIR/0_3_1.npy', 'PIR/0_3_2.npy', 'PIR/0_3_3.npy', 'PIR/0_3_4.npy', 'PIR/0_3_5.npy', 'PIR/0_3_6.npy', 'PIR/0_3_7.npy', 'PIR/0_3_8.npy', 'PIR/0_4_1.npy', 'PIR/0_4_2.npy', 'PIR/0_4_3.npy', 'PIR/0_4_4.npy', 'PIR/0_4_5.npy', 'PIR/0_4_6.npy', 'PIR/0_4_7.npy', 'PIR/0_4_8.npy', 'PIR/0_5_1.npy', 'PIR/0_5_2.npy', 'PIR/0_5_3.npy', 'PIR/0_5_4.npy', 'PIR/0_5_5.npy', 'PIR/0_5_6.npy', 'PIR/0_5_7.npy', 'PIR/0_5_8.npy', 'PIR/0_6_1.npy', 'PIR/0_6_2.npy', 'PIR/0_6_3.npy', 'PIR/0_6_4.npy', 'PIR/0_6_5.npy', 'PIR/0_6_6.npy', 'PIR/0_6_7.npy', 'PIR/0_6_8.npy', 'PIR/0_7_1.npy', 'PIR/0_7_2.npy', 'PIR/0_7_3.npy', 'PIR/0_7_4.npy', 'PIR/0_7_5.npy', 'PIR/0_7_6.npy', 'PIR/0_7_7.npy', 'PIR/0_7_8.npy', 'PIR/0_8_1.npy', 'PIR/0_8_2.npy', 'PIR/0_8_3.npy', 'PIR/0_8_4.npy', 'PIR/0_8_5.npy', 'PIR/0_8_6.npy', 'PIR/0_8_7.npy', 'PIR/0_8_8.npy']\n",
      "\n",
      "['PIR/1_0_1.npy', 'PIR/1_0_2.npy', 'PIR/1_0_3.npy', 'PIR/1_0_4.npy', 'PIR/1_0_5.npy', 'PIR/1_0_6.npy', 'PIR/1_0_7.npy', 'PIR/1_0_8.npy', 'PIR/2_0_1.npy', 'PIR/2_0_2.npy', 'PIR/2_0_3.npy', 'PIR/2_0_4.npy', 'PIR/2_0_5.npy', 'PIR/2_0_6.npy', 'PIR/2_0_7.npy', 'PIR/2_0_8.npy', 'PIR/3_0_1.npy', 'PIR/3_0_2.npy', 'PIR/3_0_3.npy', 'PIR/3_0_4.npy', 'PIR/3_0_5.npy', 'PIR/3_0_6.npy', 'PIR/3_0_7.npy', 'PIR/3_0_8.npy', 'PIR/4_0_1.npy', 'PIR/4_0_2.npy', 'PIR/4_0_3.npy', 'PIR/4_0_4.npy', 'PIR/4_0_5.npy', 'PIR/4_0_6.npy', 'PIR/4_0_7.npy', 'PIR/4_0_8.npy', 'PIR/5_0_1.npy', 'PIR/5_0_2.npy', 'PIR/5_0_3.npy', 'PIR/5_0_4.npy', 'PIR/5_0_5.npy', 'PIR/5_0_6.npy', 'PIR/5_0_7.npy', 'PIR/5_0_8.npy', 'PIR/6_0_1.npy', 'PIR/6_0_2.npy', 'PIR/6_0_3.npy', 'PIR/6_0_4.npy', 'PIR/6_0_5.npy', 'PIR/6_0_6.npy', 'PIR/6_0_7.npy', 'PIR/6_0_8.npy', 'PIR/7_0_1.npy', 'PIR/7_0_2.npy', 'PIR/7_0_3.npy', 'PIR/7_0_4.npy', 'PIR/7_0_5.npy', 'PIR/7_0_6.npy', 'PIR/7_0_7.npy', 'PIR/7_0_8.npy', 'PIR/8_0_1.npy', 'PIR/8_0_2.npy', 'PIR/8_0_3.npy', 'PIR/8_0_4.npy', 'PIR/8_0_5.npy', 'PIR/8_0_6.npy', 'PIR/8_0_7.npy', 'PIR/8_0_8.npy']\n"
     ]
    }
   ],
   "source": [
    "files0 = glob.glob('PIR/0_*_*.npy')\n",
    "print(files0)\n",
    "\n",
    "print('')\n",
    "\n",
    "files1 = glob.glob('PIR/*_0_*.npy')[:len(files0)]\n",
    "print(files1)"
   ]
  },
  {
   "cell_type": "code",
   "execution_count": 3,
   "id": "b69854f4",
   "metadata": {
    "collapsed": true
   },
   "outputs": [
    {
     "name": "stdout",
     "output_type": "stream",
     "text": [
      "[[0.      1.      1.     ]\n",
      " [0.99602 1.      2.     ]\n",
      " [2.      1.      3.     ]\n",
      " [0.9996  1.      4.     ]\n",
      " [0.      1.      5.     ]\n",
      " [1.00134 1.      6.     ]\n",
      " [2.      1.      7.     ]\n",
      " [0.99912 1.      8.     ]\n",
      " [1.98508 2.      1.     ]\n",
      " [2.00254 2.      2.     ]\n",
      " [2.      2.      3.     ]\n",
      " [2.00112 2.      4.     ]\n",
      " [1.9854  2.      5.     ]\n",
      " [2.0057  2.      6.     ]\n",
      " [2.      2.      7.     ]\n",
      " [1.99812 2.      8.     ]\n",
      " [4.      3.      1.     ]\n",
      " [3.00122 3.      2.     ]\n",
      " [2.      3.      3.     ]\n",
      " [2.99954 3.      4.     ]\n",
      " [4.      3.      5.     ]\n",
      " [3.00362 3.      6.     ]\n",
      " [2.      3.      7.     ]\n",
      " [2.99628 3.      8.     ]\n",
      " [2.00248 4.      1.     ]\n",
      " [2.008   4.      2.     ]\n",
      " [2.      4.      3.     ]\n",
      " [2.0033  4.      4.     ]\n",
      " [2.00708 4.      5.     ]\n",
      " [2.00374 4.      6.     ]\n",
      " [2.      4.      7.     ]\n",
      " [1.998   4.      8.     ]\n",
      " [0.      5.      1.     ]\n",
      " [0.99252 5.      2.     ]\n",
      " [2.      5.      3.     ]\n",
      " [0.99716 5.      4.     ]\n",
      " [0.      5.      5.     ]\n",
      " [0.99942 5.      6.     ]\n",
      " [2.      5.      7.     ]\n",
      " [0.99798 5.      8.     ]\n",
      " [2.00224 6.      1.     ]\n",
      " [2.00372 6.      2.     ]\n",
      " [2.      6.      3.     ]\n",
      " [1.9946  6.      4.     ]\n",
      " [1.9992  6.      5.     ]\n",
      " [2.00984 6.      6.     ]\n",
      " [2.      6.      7.     ]\n",
      " [2.00796 6.      8.     ]\n",
      " [4.      7.      1.     ]\n",
      " [3.00764 7.      2.     ]\n",
      " [2.      7.      3.     ]\n",
      " [2.99724 7.      4.     ]\n",
      " [4.      7.      5.     ]\n",
      " [3.00038 7.      6.     ]\n",
      " [2.      7.      7.     ]\n",
      " [2.99454 7.      8.     ]\n",
      " [2.00652 8.      1.     ]\n",
      " [2.0092  8.      2.     ]\n",
      " [2.      8.      3.     ]\n",
      " [1.99604 8.      4.     ]\n",
      " [1.99784 8.      5.     ]\n",
      " [2.00288 8.      6.     ]\n",
      " [2.      8.      7.     ]\n",
      " [2.00326 8.      8.     ]]\n",
      "\n",
      "[[1.99236 1.      1.     ]\n",
      " [2.00094 1.      2.     ]\n",
      " [2.      1.      3.     ]\n",
      " [1.99278 1.      4.     ]\n",
      " [1.99708 1.      5.     ]\n",
      " [2.00122 1.      6.     ]\n",
      " [2.      1.      7.     ]\n",
      " [2.00332 1.      8.     ]\n",
      " [1.99164 2.      1.     ]\n",
      " [1.99722 2.      2.     ]\n",
      " [2.      2.      3.     ]\n",
      " [2.00056 2.      4.     ]\n",
      " [2.00212 2.      5.     ]\n",
      " [2.00492 2.      6.     ]\n",
      " [2.      2.      7.     ]\n",
      " [1.99752 2.      8.     ]\n",
      " [2.002   3.      1.     ]\n",
      " [1.99992 3.      2.     ]\n",
      " [2.      3.      3.     ]\n",
      " [2.00926 3.      4.     ]\n",
      " [2.00236 3.      5.     ]\n",
      " [2.00494 3.      6.     ]\n",
      " [2.      3.      7.     ]\n",
      " [1.98956 3.      8.     ]\n",
      " [1.99696 4.      1.     ]\n",
      " [2.00612 4.      2.     ]\n",
      " [2.      4.      3.     ]\n",
      " [2.0069  4.      4.     ]\n",
      " [2.0004  4.      5.     ]\n",
      " [2.00586 4.      6.     ]\n",
      " [2.      4.      7.     ]\n",
      " [1.99936 4.      8.     ]\n",
      " [2.00028 5.      1.     ]\n",
      " [1.99876 5.      2.     ]\n",
      " [2.      5.      3.     ]\n",
      " [1.99884 5.      4.     ]\n",
      " [1.99256 5.      5.     ]\n",
      " [2.00384 5.      6.     ]\n",
      " [2.      5.      7.     ]\n",
      " [2.00336 5.      8.     ]\n",
      " [2.00428 6.      1.     ]\n",
      " [1.99896 6.      2.     ]\n",
      " [2.      6.      3.     ]\n",
      " [1.99418 6.      4.     ]\n",
      " [2.0086  6.      5.     ]\n",
      " [1.9941  6.      6.     ]\n",
      " [2.      6.      7.     ]\n",
      " [2.00444 6.      8.     ]\n",
      " [1.99928 7.      1.     ]\n",
      " [1.99724 7.      2.     ]\n",
      " [2.      7.      3.     ]\n",
      " [1.9996  7.      4.     ]\n",
      " [1.9954  7.      5.     ]\n",
      " [1.9976  7.      6.     ]\n",
      " [2.      7.      7.     ]\n",
      " [1.99652 7.      8.     ]\n",
      " [1.99188 8.      1.     ]\n",
      " [1.99616 8.      2.     ]\n",
      " [2.      8.      3.     ]\n",
      " [1.99804 8.      4.     ]\n",
      " [1.98964 8.      5.     ]\n",
      " [2.00048 8.      6.     ]\n",
      " [2.      8.      7.     ]\n",
      " [2.00108 8.      8.     ]]\n"
     ]
    }
   ],
   "source": [
    "stax0 = np.load(files0[0])\n",
    "stax1 = np.load(files1[0])\n",
    "\n",
    "for i in range(1, len(files0)):\n",
    "    stax0 = np.vstack((stax0, np.load(files0[i])))\n",
    "    stax1 = np.vstack((stax1, np.load(files1[i])))\n",
    "\n",
    "stax0 = np.hstack((stax0[:, 0].reshape(-1, 1), stax0[:, -2].reshape(-1, 1), stax0[:, -1].reshape(-1, 1)))\n",
    "stax1 = np.hstack((stax1[:, 0].reshape(-1, 1), stax1[:, 1].reshape(-1, 1), stax1[:, -1].reshape(-1, 1)))\n",
    "\n",
    "print(stax0)\n",
    "print('')\n",
    "print(stax1)"
   ]
  },
  {
   "cell_type": "code",
   "execution_count": 4,
   "id": "aed8a72c",
   "metadata": {},
   "outputs": [
    {
     "data": {
      "image/png": "[encoded data removed]",
      "text/plain": [
       "<Figure size 432x288 with 2 Axes>"
      ]
     },
     "metadata": {
      "needs_background": "light"
     },
     "output_type": "display_data"
    }
   ],
   "source": [
    "X = list(stax0[:, -2])\n",
    "Y = list(stax0[:, -1])\n",
    "Z = list(stax0[:, 0])\n",
    "plt.tricontourf(X, Y, Z, 20, cmap='RdGy')\n",
    "plt.colorbar()\n",
    "plt.show()"
   ]
  },
  {
   "cell_type": "code",
   "execution_count": 5,
   "id": "8f614b86",
   "metadata": {},
   "outputs": [
    {
     "data": {
      "image/png": "[encoded data removed]",
      "text/plain": [
       "<Figure size 432x288 with 2 Axes>"
      ]
     },
     "metadata": {
      "needs_background": "light"
     },
     "output_type": "display_data"
    }
   ],
   "source": [
    "X = list(stax1[:, -2])\n",
    "Y = list(stax1[:, -1])\n",
    "Z = list(stax1[:, 0])\n",
    "plt.tricontourf(X, Y, Z, 20, cmap='RdGy')\n",
    "plt.colorbar()\n",
    "plt.show()"
   ]
  },
  {
   "cell_type": "code",
   "execution_count": null,
   "id": "5ccc4bd8",
   "metadata": {},
   "outputs": [],
   "source": []
  }
 ],
 "metadata": {
  "kernelspec": {
   "display_name": "Python 3",
   "language": "python",
   "name": "python3"
  },
  "language_info": {
   "codemirror_mode": {
    "name": "ipython",
    "version": 3
   },
   "file_extension": ".py",
   "mimetype": "text/x-python",
   "name": "python",
   "nbconvert_exporter": "python",
   "pygments_lexer": "ipython3",
   "version": "3.8.8"
  }
 },
 "nbformat": 4,
 "nbformat_minor": 5
}
